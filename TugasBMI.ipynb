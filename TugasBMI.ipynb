{
 "cells": [
  {
   "cell_type": "markdown",
   "metadata": {},
   "source": [
    "# LATIHAN\n",
    "\n",
    "\n",
    "Body Mass Index (BMI) menentukan sebuah keidealan berat badan terhadap tinggi badan. Berikut adalah formula dari BMI : BMI = weight (kg) ÷ height^2 (m^2)\n",
    "\n",
    "Berikut adalah kategorisasi BMI\n",
    "\n",
    "| BMI                 | Kategori BMI             |   |\n",
    "|---------------------|---------------------------|---|\n",
    "| Kurang dari 15        | Very severely underweight |   |\n",
    "| Diantara 15 dan 16   | Severely underweight      |   |\n",
    "| Diantara 16 dan 18.5 | Underweight               |   |\n",
    "| Diantara 18.5 dan 25 | Normal (healthy weight)   |   |\n",
    "| Diantara 25 dan 30   | Overweight                |   |\n",
    "| Diantara 30 dan 35   | Moderately obese          |   |\n",
    "| Diantara 35 dan 40   | Severely obese            |   |\n",
    "| Over 40             | Very severely obese       |   |\n",
    "\n",
    "Buatlah sebuah program yang memiliki dua variabel berat badan dengan satuan KG, dan tinggi badan dengan satuan CM, kemudian keluaran dari program adalah Kategori BMI"
   ]
  },
  {
   "cell_type": "code",
   "execution_count": 1,
   "metadata": {},
   "outputs": [
    {
     "name": "stdout",
     "output_type": "stream",
     "text": [
      "Your Body Mass Index (BMI) is  25.71 . You are in Moderately obese Category\n"
     ]
    }
   ],
   "source": [
    "## Body mass index (BMI) is a measure of body fat based on height and weight that applies to adult men and women. ##\n",
    "\n",
    "# Input Data\n",
    "weight = 70\n",
    "height = 1.65\n",
    "\n",
    "# Calculate Body Mass Index (BMI)\n",
    "BMI = weight / height**2\n",
    "\n",
    "# Categorize Body Mass Index(BMI) according to the table\n",
    "if BMI < 15:\n",
    "   categoryBMI = \"Very severely underweight\"\n",
    "elif BMI <= 15 and BMI < 16:\n",
    "   categoryBMI = \"Severely underweight\"\n",
    "elif BMI <=16 and BMI < 18.5:\n",
    "   categoryBMI = \"Underweight\"\n",
    "elif BMI <=18.5 and BMI < 25:\n",
    "   categoryBMI = \"Normal (healthy weight)\"\n",
    "elif BMI <=25 and BMI < 30:\n",
    "   categoryBMI = \"Overweight\"\n",
    "elif BMI <=30 and BMI < 35:\n",
    "   categoryBMI = \"Moderately obese\"\n",
    "elif BMI <=35 and BMI < 40:\n",
    "   categoryBMI = \"Severely obese\"\n",
    "elif BMI >= 40:\n",
    "   categoryBMI = \"Very severely obese\"\n",
    "else:\n",
    "   categoryBMI = \"Please input the value\"\n",
    "\n",
    "# Print the result\n",
    "##print(BMI)\n",
    "##print(categoryBMI)\n",
    "print(\"Your Body Mass Index (BMI) is \", \"%.2f\" % BMI, \". You are in\", categoryBMI ,\"Category\" )"
   ]
  }
 ],
 "metadata": {
  "kernelspec": {
   "display_name": "Python 3",
   "language": "python",
   "name": "python3"
  },
  "language_info": {
   "codemirror_mode": {
    "name": "ipython",
    "version": 3
   },
   "file_extension": ".py",
   "mimetype": "text/x-python",
   "name": "python",
   "nbconvert_exporter": "python",
   "pygments_lexer": "ipython3",
   "version": "3.7.0"
  }
 },
 "nbformat": 4,
 "nbformat_minor": 2
}
