{
 "cells": [
  {
   "cell_type": "markdown",
   "metadata": {},
   "source": [
    "# SQL #3 - SubQuery\n",
    "Before start this notebook, please make sure to complete this following list:\n",
    "- Install [XAMPP](https://www.apachefriends.org/index.html)\n",
    "- Start MySQL Database, and Apache Webserver\n",
    "- Install Package `SQLAlchemy` on notebook, this package is the Python SQL toolkit and Object Relational Mapper that gives application developers the full power and flexibility of SQL\n",
    "- Import database `mysqlsampledatabase.sql` to MySQL Database\n",
    "\n",
    "## Connect to database\n",
    "Connect to localhost, using `classicmodels` database with default user. "
   ]
  },
  {
   "cell_type": "code",
   "execution_count": 31,
   "metadata": {},
   "outputs": [],
   "source": [
    "import pymysql\n",
    "import pandas as pd\n",
    "from sqlalchemy import create_engine\n",
    "\n",
    "host = 'localhost'\n",
    "port = \"3306\"\n",
    "user = 'root'\n",
    "password = ''\n",
    "database = 'classicmodels'\n",
    "\n",
    "#create connection to database\n",
    "engine = create_engine('mysql+pymysql://'+user+':'+password+'@'+host+':'+port+'/'+database)\n",
    "# engine = create_engine('mysql+pymysql://root: @localhost:3306/classicmodels)\n",
    "\n",
    "def run(sql):\n",
    "    df = pd.read_sql_query(sql,engine)\n",
    "    return df"
   ]
  },
  {
   "cell_type": "markdown",
   "metadata": {},
   "source": [
    "## Input CSV to MySQL\n",
    "- Open `student.csv` file, see the structure of that file which contains `ID, Name` in their header.\n",
    "- Read Data from `studen.csv` file\n",
    "- input csv to SQL database"
   ]
  },
  {
   "cell_type": "code",
   "execution_count": 32,
   "metadata": {},
   "outputs": [],
   "source": [
    "#CSV to DataFrame to MySQL\n",
    "df_fromcsv = pd.read_csv('student.csv')\n",
    "df_fromcsv.to_sql(name = 'student', con = engine, if_exists = 'replace', index = False)\n",
    "# if_exists = 'fail' | 'replace' | 'append'"
   ]
  },
  {
   "cell_type": "code",
   "execution_count": 33,
   "metadata": {},
   "outputs": [
    {
     "name": "stdout",
     "output_type": "stream",
     "text": [
      "   ID    Name\n",
      "0  11     Ani\n",
      "1  22    Budi\n",
      "2  33   Citra\n",
      "3  44   Damar\n",
      "4  55    Esti\n"
     ]
    }
   ],
   "source": [
    "df_result = run(\"SELECT * FROM student\")\n",
    "print(df_result)"
   ]
  },
  {
   "cell_type": "markdown",
   "metadata": {},
   "source": [
    "## Add data using Query INSERT\n",
    "Insert will be autocommit"
   ]
  },
  {
   "cell_type": "code",
   "execution_count": 34,
   "metadata": {},
   "outputs": [
    {
     "data": {
      "text/plain": [
       "<sqlalchemy.engine.result.ResultProxy at 0x119fdc080>"
      ]
     },
     "execution_count": 34,
     "metadata": {},
     "output_type": "execute_result"
    }
   ],
   "source": [
    "engine.execute(\"INSERT INTO student VALUES(66,'Fajar')\")"
   ]
  },
  {
   "cell_type": "code",
   "execution_count": 35,
   "metadata": {},
   "outputs": [
    {
     "data": {
      "text/html": [
       "<div>\n",
       "<style scoped>\n",
       "    .dataframe tbody tr th:only-of-type {\n",
       "        vertical-align: middle;\n",
       "    }\n",
       "\n",
       "    .dataframe tbody tr th {\n",
       "        vertical-align: top;\n",
       "    }\n",
       "\n",
       "    .dataframe thead th {\n",
       "        text-align: right;\n",
       "    }\n",
       "</style>\n",
       "<table border=\"1\" class=\"dataframe\">\n",
       "  <thead>\n",
       "    <tr style=\"text-align: right;\">\n",
       "      <th></th>\n",
       "      <th>ID</th>\n",
       "      <th>Name</th>\n",
       "    </tr>\n",
       "  </thead>\n",
       "  <tbody>\n",
       "    <tr>\n",
       "      <th>0</th>\n",
       "      <td>11</td>\n",
       "      <td>Ani</td>\n",
       "    </tr>\n",
       "    <tr>\n",
       "      <th>1</th>\n",
       "      <td>22</td>\n",
       "      <td>Budi</td>\n",
       "    </tr>\n",
       "    <tr>\n",
       "      <th>2</th>\n",
       "      <td>33</td>\n",
       "      <td>Citra</td>\n",
       "    </tr>\n",
       "    <tr>\n",
       "      <th>3</th>\n",
       "      <td>44</td>\n",
       "      <td>Damar</td>\n",
       "    </tr>\n",
       "    <tr>\n",
       "      <th>4</th>\n",
       "      <td>55</td>\n",
       "      <td>Esti</td>\n",
       "    </tr>\n",
       "    <tr>\n",
       "      <th>5</th>\n",
       "      <td>66</td>\n",
       "      <td>Fajar</td>\n",
       "    </tr>\n",
       "  </tbody>\n",
       "</table>\n",
       "</div>"
      ],
      "text/plain": [
       "   ID    Name\n",
       "0  11     Ani\n",
       "1  22    Budi\n",
       "2  33   Citra\n",
       "3  44   Damar\n",
       "4  55    Esti\n",
       "5  66   Fajar"
      ]
     },
     "execution_count": 35,
     "metadata": {},
     "output_type": "execute_result"
    }
   ],
   "source": [
    "run(\"SELECT * FROM student\")"
   ]
  },
  {
   "cell_type": "code",
   "execution_count": null,
   "metadata": {},
   "outputs": [],
   "source": []
  }
 ],
 "metadata": {
  "kernelspec": {
   "display_name": "Python 3",
   "language": "python",
   "name": "python3"
  },
  "language_info": {
   "codemirror_mode": {
    "name": "ipython",
    "version": 3
   },
   "file_extension": ".py",
   "mimetype": "text/x-python",
   "name": "python",
   "nbconvert_exporter": "python",
   "pygments_lexer": "ipython3",
   "version": "3.6.6"
  }
 },
 "nbformat": 4,
 "nbformat_minor": 2
}
