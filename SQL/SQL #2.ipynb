{
 "cells": [
  {
   "cell_type": "markdown",
   "metadata": {},
   "source": [
    "# SQL #2\n",
    "\n",
    "Before start this notebook, please make sure to complete this following list:\n",
    "- Install [XAMPP](https://www.apachefriends.org/index.html)\n",
    "- Start MySQL Database, and Apache Webserver\n",
    "- Install Package `PyMySQL` on notebook, this package contains a pure-Python MySQL client library\n",
    "- Import database `mysqlsampledatabase.sql` to MySQL Database\n",
    "\n",
    "## Database Structure\n",
    "<img src=\"http://www.mysqltutorial.org/wp-content/uploads/2009/12/MySQL-Sample-Database-Schema.png\" />"
   ]
  },
  {
   "cell_type": "markdown",
   "metadata": {},
   "source": [
    "## Connect to database\n",
    "Connect to localhost, using `classicmodels` database with default user"
   ]
  },
  {
   "cell_type": "code",
   "execution_count": null,
   "metadata": {},
   "outputs": [],
   "source": [
    "import pymysql\n",
    "import pandas as pd\n",
    "\n",
    "host = '127.0.0.1'\n",
    "port = \"3306\"\n",
    "user = 'root'\n",
    "password = ''\n",
    "database = 'classicmodels'\n",
    "\n",
    "conn = pymysql.connect(\n",
    "    host=host,\n",
    "    port=int(port),\n",
    "    user=user,\n",
    "    passwd=password,\n",
    "    db=database,\n",
    "    charset='utf8mb4')\n",
    "\n",
    "def run(sql):\n",
    "    df = pd.read_sql_query(sql,conn)\n",
    "    return df"
   ]
  },
  {
   "cell_type": "markdown",
   "metadata": {},
   "source": [
    "### One to many relationship\n",
    "1. Report the account representative for each customer.\n",
    "2. Report total payments for Atelier graphique.\n",
    "3. Report the total payments by date\n",
    "4. Report the products that have not been sold.\n",
    "5. List the amount paid by each customer.\n",
    "6. How many orders have been placed by Herkku Gifts?\n",
    "7. Who are the employees in Boston?\n",
    "8. Report those payments greater than \\$100,000. Sort the report so the customer who made the highest payment appears first.\n",
    "9. List the value of 'On Hold' orders.\n",
    "10. Report the number of orders 'On Hold' for each customer."
   ]
  },
  {
   "cell_type": "code",
   "execution_count": null,
   "metadata": {},
   "outputs": [],
   "source": [
    "# 1. Report the account representative for each customer.\n",
    "\n",
    "run(\"\"\"\n",
    "SELECT \n",
    "    concat(e.firstName,' ', e.lastName) AccountRepresentative,\n",
    "    customerName\n",
    "FROM\n",
    "    employees e\n",
    "        RIGHT JOIN\n",
    "    customers c ON e.employeeNumber = c.salesRepEmployeeNumber\n",
    "ORDER BY customerName\n",
    "\"\"\")"
   ]
  },
  {
   "cell_type": "code",
   "execution_count": null,
   "metadata": {},
   "outputs": [],
   "source": [
    "#2. Report total payments for Atelier graphique.\n",
    "\n",
    "run(\"\"\"\n",
    "SELECT \n",
    "    customerName,\n",
    "    sum(amount) totalPayments\n",
    "FROM\n",
    "    customers c\n",
    "        JOIN\n",
    "    payments p ON c.customerNumber = p.customerNumber\n",
    "WHERE\n",
    "    c.customerName = 'Atelier graphique'\n",
    "\"\"\")"
   ]
  },
  {
   "cell_type": "code",
   "execution_count": null,
   "metadata": {},
   "outputs": [],
   "source": [
    "# 3. Report the total payments by date\n",
    "\n"
   ]
  },
  {
   "cell_type": "markdown",
   "metadata": {},
   "source": [
    "### Many to many relationship\n",
    "1. List products sold by order date.\n",
    "2. List the order dates in descending order for orders for the 1940 Ford Pickup Truck.\n",
    "3. List the names of customers and their corresponding order number where a particular order from that customer has a value greater than $25,000?\n",
    "4. Are there any products that appear on all orders?\n",
    "5. List the names of products sold at less than 80% of the MSRP.\n",
    "6. Reports those products that have been sold with a markup of 100% or more (i.e.,  the priceEach is at least twice the buyPrice)\n",
    "7. List the products ordered on a Monday.\n",
    "8. What is the quantity on hand for products listed on 'On Hold' orders?"
   ]
  },
  {
   "cell_type": "code",
   "execution_count": null,
   "metadata": {},
   "outputs": [],
   "source": []
  }
 ],
 "metadata": {
  "kernelspec": {
   "display_name": "Python 3",
   "language": "python",
   "name": "python3"
  },
  "language_info": {
   "codemirror_mode": {
    "name": "ipython",
    "version": 3
   },
   "file_extension": ".py",
   "mimetype": "text/x-python",
   "name": "python",
   "nbconvert_exporter": "python",
   "pygments_lexer": "ipython3",
   "version": "3.6.6"
  }
 },
 "nbformat": 4,
 "nbformat_minor": 2
}
