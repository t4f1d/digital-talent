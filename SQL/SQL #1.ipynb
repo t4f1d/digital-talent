{
 "cells": [
  {
   "cell_type": "markdown",
   "metadata": {},
   "source": [
    "# SQL #1\n",
    "\n",
    "Before start this notebook, please make sure to complete this following list:\n",
    "- Install [XAMPP](https://www.apachefriends.org/index.html)\n",
    "- Start MySQL Database, and Apache Webserver\n",
    "- Install Package `PyMySQL` on notebook, this package contains a pure-Python MySQL client library\n",
    "- Import database `mysqlsampledatabase.sql` to MySQL Database\n",
    "\n",
    "## Database Structure\n",
    "<img src=\"http://www.mysqltutorial.org/wp-content/uploads/2009/12/MySQL-Sample-Database-Schema.png\" />"
   ]
  },
  {
   "cell_type": "markdown",
   "metadata": {},
   "source": [
    "## Connect to database\n",
    "Connect to localhost, using `classicmodels` database with default user"
   ]
  },
  {
   "cell_type": "code",
   "execution_count": 1,
   "metadata": {},
   "outputs": [],
   "source": [
    "import pymysql\n",
    "import pandas as pd\n",
    "\n",
    "host = '127.0.0.1'\n",
    "port = \"3306\"\n",
    "user = 'root'\n",
    "password = ''\n",
    "database = 'classicmodels'\n",
    "\n",
    "conn = pymysql.connect(\n",
    "    host=host,\n",
    "    port=int(port),\n",
    "    user=user,\n",
    "    passwd=password,\n",
    "    db=database,\n",
    "    charset='utf8mb4')\n",
    "\n",
    "def run(sql):\n",
    "    df = pd.read_sql_query(sql,conn)\n",
    "    return df"
   ]
  },
  {
   "cell_type": "markdown",
   "metadata": {},
   "source": [
    "## Single Entity\n",
    "\n",
    "Single entity\n",
    "1. Prepare a list of offices sorted by country, state, city.\n",
    "2. How many employees are there in the company?\n",
    "3. What is the total of payments received?\n",
    "4. List the product lines that contain 'Cars'.\n",
    "5. Report total payments for October 28, 2004.\n",
    "6. Report those payments greater than \\$100,000.\n",
    "7. List the products in each product line.\n",
    "8. How many products in each product line?\n",
    "9. What is the minimum payment received?\n",
    "10. List all payments greater than twice the average payment.\n",
    "11. What is the average percentage markup of the MSRP on buyPrice?\n",
    "12. How many distinct products does ClassicModels sell?\n",
    "13. Report the name and city of customers who don't have sales representatives?\n",
    "14. What are the names of executives with VP or Manager in their title? Use the CONCAT function to combine the employee's first name and last name into a single field for reporting.\n",
    "15. Which orders have a value greater than $5,000?"
   ]
  },
  {
   "cell_type": "code",
   "execution_count": null,
   "metadata": {},
   "outputs": [],
   "source": []
  }
 ],
 "metadata": {
  "kernelspec": {
   "display_name": "Python 3",
   "language": "python",
   "name": "python3"
  },
  "language_info": {
   "codemirror_mode": {
    "name": "ipython",
    "version": 3
   },
   "file_extension": ".py",
   "mimetype": "text/x-python",
   "name": "python",
   "nbconvert_exporter": "python",
   "pygments_lexer": "ipython3",
   "version": "3.6.6"
  }
 },
 "nbformat": 4,
 "nbformat_minor": 2
}
