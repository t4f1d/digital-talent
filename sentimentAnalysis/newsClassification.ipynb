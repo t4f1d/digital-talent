{
 "cells": [
  {
   "cell_type": "markdown",
   "metadata": {},
   "source": [
    "### Articles"
   ]
  },
  {
   "cell_type": "code",
   "execution_count": 1,
   "metadata": {},
   "outputs": [],
   "source": [
    "article = []"
   ]
  },
  {
   "cell_type": "code",
   "execution_count": 2,
   "metadata": {},
   "outputs": [],
   "source": [
    "article.append({'text':'I saw the saw.', 'category':'story'})\n",
    "article.append({'text':'I saw her standing there.', 'category':'story'})\n",
    "article.append({'text':'Ofcourse I give her an umbrella.', 'category':'story'})\n",
    "article.append({'text':'But she give me the saw.', 'category':'story'})\n",
    "article.append({'text':'I come but she run.', 'category':'story'})\n",
    "\n",
    "article.append({'text':'The moon is Earth’s closest neighbor.', 'category':'science'})\n",
    "article.append({'text':'It is the brightest object in the night sky..', 'category':'science'})\n",
    "article.append({'text':'Learn more about the moon.', 'category':'science'})\n",
    "article.append({'text':'Scientists have studied the moon for thousands of years.', 'category':'science'})\n",
    "article.append({'text':'The moon is about 4½ billion years old.', 'category':'science'})\n",
    "\n",
    "article.append({'text':'People build homes.','category':'animal'})\n",
    "article.append({'text':'A home keeps us warm and dry.', 'category': 'animal'})\n",
    "article.append({'text':'It gives us a place to live.','category':'animal'})\n",
    "article.append({'text':'Animals also build homes.','category':'animal'})\n",
    "article.append({'text':'Read on to see how.','category':'animal'})\n",
    "\n",
    "article.append({'text':'This is a human skeleton.','category':'health'})\n",
    "article.append({'text':'It is made of bones.','category':'health'})\n",
    "article.append({'text':'Bones shape and support your body.','category':'health'})\n",
    "article.append({'text':'They also protect your organs.','category':'health'})\n",
    "article.append({'text':'Calcium helps bones grow strong.','category':'health'})\n"
   ]
  },
  {
   "cell_type": "code",
   "execution_count": 3,
   "metadata": {},
   "outputs": [
    {
     "data": {
      "text/plain": [
       "[{'text': 'I saw the saw.', 'category': 'story'},\n",
       " {'text': 'I saw her standing there.', 'category': 'story'},\n",
       " {'text': 'Ofcourse I give her an umbrella.', 'category': 'story'},\n",
       " {'text': 'But she give me the saw.', 'category': 'story'},\n",
       " {'text': 'I come but she run.', 'category': 'story'},\n",
       " {'text': 'The moon is Earth’s closest neighbor.', 'category': 'science'},\n",
       " {'text': 'It is the brightest object in the night sky..',\n",
       "  'category': 'science'},\n",
       " {'text': 'Learn more about the moon.', 'category': 'science'},\n",
       " {'text': 'Scientists have studied the moon for thousands of years.',\n",
       "  'category': 'science'},\n",
       " {'text': 'The moon is about 4½ billion years old.', 'category': 'science'},\n",
       " {'text': 'People build homes.', 'category': 'animal'},\n",
       " {'text': 'A home keeps us warm and dry.', 'category': 'animal'},\n",
       " {'text': 'It gives us a place to live.', 'category': 'animal'},\n",
       " {'text': 'Animals also build homes.', 'category': 'animal'},\n",
       " {'text': 'Read on to see how.', 'category': 'animal'},\n",
       " {'text': 'This is a human skeleton.', 'category': 'health'},\n",
       " {'text': 'It is made of bones.', 'category': 'health'},\n",
       " {'text': 'Bones shape and support your body.', 'category': 'health'},\n",
       " {'text': 'They also protect your organs.', 'category': 'health'},\n",
       " {'text': 'Calcium helps bones grow strong.', 'category': 'health'}]"
      ]
     },
     "execution_count": 3,
     "metadata": {},
     "output_type": "execute_result"
    }
   ],
   "source": [
    "article"
   ]
  },
  {
   "cell_type": "markdown",
   "metadata": {},
   "source": [
    "### Import pandas"
   ]
  },
  {
   "cell_type": "code",
   "execution_count": 4,
   "metadata": {},
   "outputs": [],
   "source": [
    "import pandas as pd"
   ]
  },
  {
   "cell_type": "markdown",
   "metadata": {},
   "source": [
    "### Export to DataFrame"
   ]
  },
  {
   "cell_type": "code",
   "execution_count": 5,
   "metadata": {},
   "outputs": [],
   "source": [
    "news_list = pd.DataFrame.from_dict(article)"
   ]
  },
  {
   "cell_type": "code",
   "execution_count": 6,
   "metadata": {},
   "outputs": [
    {
     "data": {
      "text/html": [
       "<div>\n",
       "<style scoped>\n",
       "    .dataframe tbody tr th:only-of-type {\n",
       "        vertical-align: middle;\n",
       "    }\n",
       "\n",
       "    .dataframe tbody tr th {\n",
       "        vertical-align: top;\n",
       "    }\n",
       "\n",
       "    .dataframe thead th {\n",
       "        text-align: right;\n",
       "    }\n",
       "</style>\n",
       "<table border=\"1\" class=\"dataframe\">\n",
       "  <thead>\n",
       "    <tr style=\"text-align: right;\">\n",
       "      <th></th>\n",
       "      <th>category</th>\n",
       "      <th>text</th>\n",
       "    </tr>\n",
       "  </thead>\n",
       "  <tbody>\n",
       "    <tr>\n",
       "      <th>0</th>\n",
       "      <td>story</td>\n",
       "      <td>I saw the saw.</td>\n",
       "    </tr>\n",
       "    <tr>\n",
       "      <th>1</th>\n",
       "      <td>story</td>\n",
       "      <td>I saw her standing there.</td>\n",
       "    </tr>\n",
       "    <tr>\n",
       "      <th>2</th>\n",
       "      <td>story</td>\n",
       "      <td>Ofcourse I give her an umbrella.</td>\n",
       "    </tr>\n",
       "    <tr>\n",
       "      <th>3</th>\n",
       "      <td>story</td>\n",
       "      <td>But she give me the saw.</td>\n",
       "    </tr>\n",
       "    <tr>\n",
       "      <th>4</th>\n",
       "      <td>story</td>\n",
       "      <td>I come but she run.</td>\n",
       "    </tr>\n",
       "    <tr>\n",
       "      <th>5</th>\n",
       "      <td>science</td>\n",
       "      <td>The moon is Earth’s closest neighbor.</td>\n",
       "    </tr>\n",
       "    <tr>\n",
       "      <th>6</th>\n",
       "      <td>science</td>\n",
       "      <td>It is the brightest object in the night sky..</td>\n",
       "    </tr>\n",
       "    <tr>\n",
       "      <th>7</th>\n",
       "      <td>science</td>\n",
       "      <td>Learn more about the moon.</td>\n",
       "    </tr>\n",
       "    <tr>\n",
       "      <th>8</th>\n",
       "      <td>science</td>\n",
       "      <td>Scientists have studied the moon for thousands...</td>\n",
       "    </tr>\n",
       "    <tr>\n",
       "      <th>9</th>\n",
       "      <td>science</td>\n",
       "      <td>The moon is about 4½ billion years old.</td>\n",
       "    </tr>\n",
       "    <tr>\n",
       "      <th>10</th>\n",
       "      <td>animal</td>\n",
       "      <td>People build homes.</td>\n",
       "    </tr>\n",
       "    <tr>\n",
       "      <th>11</th>\n",
       "      <td>animal</td>\n",
       "      <td>A home keeps us warm and dry.</td>\n",
       "    </tr>\n",
       "    <tr>\n",
       "      <th>12</th>\n",
       "      <td>animal</td>\n",
       "      <td>It gives us a place to live.</td>\n",
       "    </tr>\n",
       "    <tr>\n",
       "      <th>13</th>\n",
       "      <td>animal</td>\n",
       "      <td>Animals also build homes.</td>\n",
       "    </tr>\n",
       "    <tr>\n",
       "      <th>14</th>\n",
       "      <td>animal</td>\n",
       "      <td>Read on to see how.</td>\n",
       "    </tr>\n",
       "    <tr>\n",
       "      <th>15</th>\n",
       "      <td>health</td>\n",
       "      <td>This is a human skeleton.</td>\n",
       "    </tr>\n",
       "    <tr>\n",
       "      <th>16</th>\n",
       "      <td>health</td>\n",
       "      <td>It is made of bones.</td>\n",
       "    </tr>\n",
       "    <tr>\n",
       "      <th>17</th>\n",
       "      <td>health</td>\n",
       "      <td>Bones shape and support your body.</td>\n",
       "    </tr>\n",
       "    <tr>\n",
       "      <th>18</th>\n",
       "      <td>health</td>\n",
       "      <td>They also protect your organs.</td>\n",
       "    </tr>\n",
       "    <tr>\n",
       "      <th>19</th>\n",
       "      <td>health</td>\n",
       "      <td>Calcium helps bones grow strong.</td>\n",
       "    </tr>\n",
       "  </tbody>\n",
       "</table>\n",
       "</div>"
      ],
      "text/plain": [
       "   category                                               text\n",
       "0     story                                     I saw the saw.\n",
       "1     story                          I saw her standing there.\n",
       "2     story                   Ofcourse I give her an umbrella.\n",
       "3     story                           But she give me the saw.\n",
       "4     story                                I come but she run.\n",
       "5   science              The moon is Earth’s closest neighbor.\n",
       "6   science      It is the brightest object in the night sky..\n",
       "7   science                         Learn more about the moon.\n",
       "8   science  Scientists have studied the moon for thousands...\n",
       "9   science            The moon is about 4½ billion years old.\n",
       "10   animal                                People build homes.\n",
       "11   animal                      A home keeps us warm and dry.\n",
       "12   animal                       It gives us a place to live.\n",
       "13   animal                          Animals also build homes.\n",
       "14   animal                                Read on to see how.\n",
       "15   health                          This is a human skeleton.\n",
       "16   health                               It is made of bones.\n",
       "17   health                 Bones shape and support your body.\n",
       "18   health                     They also protect your organs.\n",
       "19   health                   Calcium helps bones grow strong."
      ]
     },
     "execution_count": 6,
     "metadata": {},
     "output_type": "execute_result"
    }
   ],
   "source": [
    "news_list"
   ]
  },
  {
   "cell_type": "code",
   "execution_count": 7,
   "metadata": {},
   "outputs": [
    {
     "data": {
      "text/html": [
       "<div>\n",
       "<style scoped>\n",
       "    .dataframe tbody tr th:only-of-type {\n",
       "        vertical-align: middle;\n",
       "    }\n",
       "\n",
       "    .dataframe tbody tr th {\n",
       "        vertical-align: top;\n",
       "    }\n",
       "\n",
       "    .dataframe thead th {\n",
       "        text-align: right;\n",
       "    }\n",
       "</style>\n",
       "<table border=\"1\" class=\"dataframe\">\n",
       "  <thead>\n",
       "    <tr style=\"text-align: right;\">\n",
       "      <th></th>\n",
       "      <th>category</th>\n",
       "      <th>text</th>\n",
       "    </tr>\n",
       "  </thead>\n",
       "  <tbody>\n",
       "    <tr>\n",
       "      <th>0</th>\n",
       "      <td>story</td>\n",
       "      <td>I saw the saw.</td>\n",
       "    </tr>\n",
       "    <tr>\n",
       "      <th>1</th>\n",
       "      <td>story</td>\n",
       "      <td>I saw her standing there.</td>\n",
       "    </tr>\n",
       "    <tr>\n",
       "      <th>2</th>\n",
       "      <td>story</td>\n",
       "      <td>Ofcourse I give her an umbrella.</td>\n",
       "    </tr>\n",
       "    <tr>\n",
       "      <th>3</th>\n",
       "      <td>story</td>\n",
       "      <td>But she give me the saw.</td>\n",
       "    </tr>\n",
       "    <tr>\n",
       "      <th>4</th>\n",
       "      <td>story</td>\n",
       "      <td>I come but she run.</td>\n",
       "    </tr>\n",
       "    <tr>\n",
       "      <th>5</th>\n",
       "      <td>science</td>\n",
       "      <td>The moon is Earth’s closest neighbor.</td>\n",
       "    </tr>\n",
       "    <tr>\n",
       "      <th>6</th>\n",
       "      <td>science</td>\n",
       "      <td>It is the brightest object in the night sky..</td>\n",
       "    </tr>\n",
       "    <tr>\n",
       "      <th>7</th>\n",
       "      <td>science</td>\n",
       "      <td>Learn more about the moon.</td>\n",
       "    </tr>\n",
       "    <tr>\n",
       "      <th>8</th>\n",
       "      <td>science</td>\n",
       "      <td>Scientists have studied the moon for thousands...</td>\n",
       "    </tr>\n",
       "    <tr>\n",
       "      <th>9</th>\n",
       "      <td>science</td>\n",
       "      <td>The moon is about 4½ billion years old.</td>\n",
       "    </tr>\n",
       "  </tbody>\n",
       "</table>\n",
       "</div>"
      ],
      "text/plain": [
       "  category                                               text\n",
       "0    story                                     I saw the saw.\n",
       "1    story                          I saw her standing there.\n",
       "2    story                   Ofcourse I give her an umbrella.\n",
       "3    story                           But she give me the saw.\n",
       "4    story                                I come but she run.\n",
       "5  science              The moon is Earth’s closest neighbor.\n",
       "6  science      It is the brightest object in the night sky..\n",
       "7  science                         Learn more about the moon.\n",
       "8  science  Scientists have studied the moon for thousands...\n",
       "9  science            The moon is about 4½ billion years old."
      ]
     },
     "execution_count": 7,
     "metadata": {},
     "output_type": "execute_result"
    }
   ],
   "source": [
    "news_list.head(10)"
   ]
  },
  {
   "cell_type": "code",
   "execution_count": 8,
   "metadata": {},
   "outputs": [
    {
     "data": {
      "text/plain": [
       "animal     5\n",
       "science    5\n",
       "story      5\n",
       "health     5\n",
       "Name: category, dtype: int64"
      ]
     },
     "execution_count": 8,
     "metadata": {},
     "output_type": "execute_result"
    }
   ],
   "source": [
    "news_list.category.value_counts()"
   ]
  },
  {
   "cell_type": "markdown",
   "metadata": {},
   "source": [
    "### Convert label to a numerical variable"
   ]
  },
  {
   "cell_type": "code",
   "execution_count": 9,
   "metadata": {},
   "outputs": [],
   "source": [
    "# convert label to a numerical variable\n",
    "news_list['label_num'] = news_list.category.map({'story':0, 'science':1, 'animal':2, 'health':3})"
   ]
  },
  {
   "cell_type": "code",
   "execution_count": 10,
   "metadata": {},
   "outputs": [
    {
     "data": {
      "text/html": [
       "<div>\n",
       "<style scoped>\n",
       "    .dataframe tbody tr th:only-of-type {\n",
       "        vertical-align: middle;\n",
       "    }\n",
       "\n",
       "    .dataframe tbody tr th {\n",
       "        vertical-align: top;\n",
       "    }\n",
       "\n",
       "    .dataframe thead th {\n",
       "        text-align: right;\n",
       "    }\n",
       "</style>\n",
       "<table border=\"1\" class=\"dataframe\">\n",
       "  <thead>\n",
       "    <tr style=\"text-align: right;\">\n",
       "      <th></th>\n",
       "      <th>category</th>\n",
       "      <th>text</th>\n",
       "      <th>label_num</th>\n",
       "    </tr>\n",
       "  </thead>\n",
       "  <tbody>\n",
       "    <tr>\n",
       "      <th>0</th>\n",
       "      <td>story</td>\n",
       "      <td>I saw the saw.</td>\n",
       "      <td>0</td>\n",
       "    </tr>\n",
       "    <tr>\n",
       "      <th>1</th>\n",
       "      <td>story</td>\n",
       "      <td>I saw her standing there.</td>\n",
       "      <td>0</td>\n",
       "    </tr>\n",
       "    <tr>\n",
       "      <th>2</th>\n",
       "      <td>story</td>\n",
       "      <td>Ofcourse I give her an umbrella.</td>\n",
       "      <td>0</td>\n",
       "    </tr>\n",
       "    <tr>\n",
       "      <th>3</th>\n",
       "      <td>story</td>\n",
       "      <td>But she give me the saw.</td>\n",
       "      <td>0</td>\n",
       "    </tr>\n",
       "    <tr>\n",
       "      <th>4</th>\n",
       "      <td>story</td>\n",
       "      <td>I come but she run.</td>\n",
       "      <td>0</td>\n",
       "    </tr>\n",
       "    <tr>\n",
       "      <th>5</th>\n",
       "      <td>science</td>\n",
       "      <td>The moon is Earth’s closest neighbor.</td>\n",
       "      <td>1</td>\n",
       "    </tr>\n",
       "    <tr>\n",
       "      <th>6</th>\n",
       "      <td>science</td>\n",
       "      <td>It is the brightest object in the night sky..</td>\n",
       "      <td>1</td>\n",
       "    </tr>\n",
       "    <tr>\n",
       "      <th>7</th>\n",
       "      <td>science</td>\n",
       "      <td>Learn more about the moon.</td>\n",
       "      <td>1</td>\n",
       "    </tr>\n",
       "    <tr>\n",
       "      <th>8</th>\n",
       "      <td>science</td>\n",
       "      <td>Scientists have studied the moon for thousands...</td>\n",
       "      <td>1</td>\n",
       "    </tr>\n",
       "    <tr>\n",
       "      <th>9</th>\n",
       "      <td>science</td>\n",
       "      <td>The moon is about 4½ billion years old.</td>\n",
       "      <td>1</td>\n",
       "    </tr>\n",
       "    <tr>\n",
       "      <th>10</th>\n",
       "      <td>animal</td>\n",
       "      <td>People build homes.</td>\n",
       "      <td>2</td>\n",
       "    </tr>\n",
       "    <tr>\n",
       "      <th>11</th>\n",
       "      <td>animal</td>\n",
       "      <td>A home keeps us warm and dry.</td>\n",
       "      <td>2</td>\n",
       "    </tr>\n",
       "    <tr>\n",
       "      <th>12</th>\n",
       "      <td>animal</td>\n",
       "      <td>It gives us a place to live.</td>\n",
       "      <td>2</td>\n",
       "    </tr>\n",
       "    <tr>\n",
       "      <th>13</th>\n",
       "      <td>animal</td>\n",
       "      <td>Animals also build homes.</td>\n",
       "      <td>2</td>\n",
       "    </tr>\n",
       "    <tr>\n",
       "      <th>14</th>\n",
       "      <td>animal</td>\n",
       "      <td>Read on to see how.</td>\n",
       "      <td>2</td>\n",
       "    </tr>\n",
       "    <tr>\n",
       "      <th>15</th>\n",
       "      <td>health</td>\n",
       "      <td>This is a human skeleton.</td>\n",
       "      <td>3</td>\n",
       "    </tr>\n",
       "    <tr>\n",
       "      <th>16</th>\n",
       "      <td>health</td>\n",
       "      <td>It is made of bones.</td>\n",
       "      <td>3</td>\n",
       "    </tr>\n",
       "    <tr>\n",
       "      <th>17</th>\n",
       "      <td>health</td>\n",
       "      <td>Bones shape and support your body.</td>\n",
       "      <td>3</td>\n",
       "    </tr>\n",
       "    <tr>\n",
       "      <th>18</th>\n",
       "      <td>health</td>\n",
       "      <td>They also protect your organs.</td>\n",
       "      <td>3</td>\n",
       "    </tr>\n",
       "    <tr>\n",
       "      <th>19</th>\n",
       "      <td>health</td>\n",
       "      <td>Calcium helps bones grow strong.</td>\n",
       "      <td>3</td>\n",
       "    </tr>\n",
       "  </tbody>\n",
       "</table>\n",
       "</div>"
      ],
      "text/plain": [
       "   category                                               text  label_num\n",
       "0     story                                     I saw the saw.          0\n",
       "1     story                          I saw her standing there.          0\n",
       "2     story                   Ofcourse I give her an umbrella.          0\n",
       "3     story                           But she give me the saw.          0\n",
       "4     story                                I come but she run.          0\n",
       "5   science              The moon is Earth’s closest neighbor.          1\n",
       "6   science      It is the brightest object in the night sky..          1\n",
       "7   science                         Learn more about the moon.          1\n",
       "8   science  Scientists have studied the moon for thousands...          1\n",
       "9   science            The moon is about 4½ billion years old.          1\n",
       "10   animal                                People build homes.          2\n",
       "11   animal                      A home keeps us warm and dry.          2\n",
       "12   animal                       It gives us a place to live.          2\n",
       "13   animal                          Animals also build homes.          2\n",
       "14   animal                                Read on to see how.          2\n",
       "15   health                          This is a human skeleton.          3\n",
       "16   health                               It is made of bones.          3\n",
       "17   health                 Bones shape and support your body.          3\n",
       "18   health                     They also protect your organs.          3\n",
       "19   health                   Calcium helps bones grow strong.          3"
      ]
     },
     "execution_count": 10,
     "metadata": {},
     "output_type": "execute_result"
    }
   ],
   "source": [
    "news_list"
   ]
  },
  {
   "cell_type": "markdown",
   "metadata": {},
   "source": [
    "### Split into training and testing sets"
   ]
  },
  {
   "cell_type": "code",
   "execution_count": 12,
   "metadata": {},
   "outputs": [],
   "source": [
    "# split X and y into training and testing sets\n",
    "from sklearn.model_selection import train_test_split"
   ]
  },
  {
   "cell_type": "code",
   "execution_count": 13,
   "metadata": {},
   "outputs": [
    {
     "name": "stdout",
     "output_type": "stream",
     "text": [
      "(20,)\n",
      "(20,)\n"
     ]
    }
   ],
   "source": [
    "X = news_list.text\n",
    "y = news_list.label_num\n",
    "print(X.shape)\n",
    "print(y.shape)"
   ]
  },
  {
   "cell_type": "code",
   "execution_count": 17,
   "metadata": {},
   "outputs": [],
   "source": [
    "train_test_split?"
   ]
  },
  {
   "cell_type": "code",
   "execution_count": 16,
   "metadata": {},
   "outputs": [
    {
     "name": "stdout",
     "output_type": "stream",
     "text": [
      "(18,)\n",
      "(2,)\n",
      "(18,)\n",
      "(2,)\n"
     ]
    }
   ],
   "source": [
    "X_train, X_test, y_train, y_test = train_test_split(X, y, test_size=0.1)\n",
    "print(X_train.shape)\n",
    "print(X_test.shape)\n",
    "print(y_train.shape)\n",
    "print(y_test.shape)"
   ]
  },
  {
   "cell_type": "markdown",
   "metadata": {},
   "source": [
    "### Feature Extraction"
   ]
  },
  {
   "cell_type": "code",
   "execution_count": 52,
   "metadata": {},
   "outputs": [],
   "source": [
    "#vect"
   ]
  },
  {
   "cell_type": "code",
   "execution_count": 53,
   "metadata": {},
   "outputs": [],
   "source": [
    "from sklearn.feature_extraction.text import CountVectorizer\n",
    "\n",
    "# instantiate the vectorizer\n",
    "vect = CountVectorizer()"
   ]
  },
  {
   "cell_type": "code",
   "execution_count": 54,
   "metadata": {},
   "outputs": [
    {
     "data": {
      "text/plain": [
       "18                       They also protect your organs.\n",
       "16                                 It is made of bones.\n",
       "11                        A home keeps us warm and dry.\n",
       "6         It is the brightest object in the night sky..\n",
       "0                                        I saw the saw.\n",
       "9               The moon is about 4½ billion years old.\n",
       "12                         It gives us a place to live.\n",
       "19                     Calcium helps bones grow strong.\n",
       "8     Scientists have studied the moon for thousands...\n",
       "14                                  Read on to see how.\n",
       "15                            This is a human skeleton.\n",
       "7                            Learn more about the moon.\n",
       "2                      Ofcourse I give her an umbrella.\n",
       "4                                   I come but she run.\n",
       "5                 The moon is Earth’s closest neighbor.\n",
       "1                             I saw her standing there.\n",
       "10                                  People build homes.\n",
       "13                            Animals also build homes.\n",
       "Name: text, dtype: object"
      ]
     },
     "execution_count": 54,
     "metadata": {},
     "output_type": "execute_result"
    }
   ],
   "source": [
    "X_train"
   ]
  },
  {
   "cell_type": "code",
   "execution_count": 55,
   "metadata": {},
   "outputs": [
    {
     "data": {
      "text/plain": [
       "17    Bones shape and support your body.\n",
       "3               But she give me the saw.\n",
       "Name: text, dtype: object"
      ]
     },
     "execution_count": 55,
     "metadata": {},
     "output_type": "execute_result"
    }
   ],
   "source": [
    "X_test"
   ]
  },
  {
   "cell_type": "code",
   "execution_count": 56,
   "metadata": {},
   "outputs": [
    {
     "data": {
      "text/plain": [
       "18    3\n",
       "16    3\n",
       "11    2\n",
       "6     1\n",
       "0     0\n",
       "9     1\n",
       "12    2\n",
       "19    3\n",
       "8     1\n",
       "14    2\n",
       "15    3\n",
       "7     1\n",
       "2     0\n",
       "4     0\n",
       "5     1\n",
       "1     0\n",
       "10    2\n",
       "13    2\n",
       "Name: label_num, dtype: int64"
      ]
     },
     "execution_count": 56,
     "metadata": {},
     "output_type": "execute_result"
    }
   ],
   "source": [
    "y_train"
   ]
  },
  {
   "cell_type": "code",
   "execution_count": 58,
   "metadata": {},
   "outputs": [],
   "source": [
    "# learn training data vocabulary, then use it to create a document-term matrix\n",
    "vect.fit(X_train)\n",
    "X_train_dtm = vect.transform(X_train)\n",
    "\n",
    "# or\n",
    "\n",
    "# equivalently: combine fit and transform into a single step\n",
    "# X_train_dtm = vect.fit_transform(X_train)"
   ]
  },
  {
   "cell_type": "code",
   "execution_count": 24,
   "metadata": {},
   "outputs": [
    {
     "data": {
      "text/plain": [
       "<18x69 sparse matrix of type '<class 'numpy.int64'>'\n",
       "\twith 94 stored elements in Compressed Sparse Row format>"
      ]
     },
     "execution_count": 24,
     "metadata": {},
     "output_type": "execute_result"
    }
   ],
   "source": [
    "X_train_dtm"
   ]
  },
  {
   "cell_type": "code",
   "execution_count": 25,
   "metadata": {},
   "outputs": [
    {
     "data": {
      "text/plain": [
       "<18x69 sparse matrix of type '<class 'numpy.int64'>'\n",
       "\twith 94 stored elements in Compressed Sparse Row format>"
      ]
     },
     "execution_count": 25,
     "metadata": {},
     "output_type": "execute_result"
    }
   ],
   "source": [
    "X_train_dtm"
   ]
  },
  {
   "cell_type": "code",
   "execution_count": 27,
   "metadata": {},
   "outputs": [
    {
     "data": {
      "text/plain": [
       "<2x69 sparse matrix of type '<class 'numpy.int64'>'\n",
       "\twith 8 stored elements in Compressed Sparse Row format>"
      ]
     },
     "execution_count": 27,
     "metadata": {},
     "output_type": "execute_result"
    }
   ],
   "source": [
    "# transform testing data (using fitted vocabulary) into a document-term matrix\n",
    "X_test_dtm = vect.transform(X_test)\n",
    "# X_test_dtm"
   ]
  },
  {
   "cell_type": "markdown",
   "metadata": {},
   "source": [
    "### Classification using NaiveBayes"
   ]
  },
  {
   "cell_type": "code",
   "execution_count": 59,
   "metadata": {},
   "outputs": [],
   "source": [
    "# import and instantiate a Multinomial Naive Bayes model\n",
    "from sklearn.naive_bayes import MultinomialNB\n",
    "nb = MultinomialNB()"
   ]
  },
  {
   "cell_type": "code",
   "execution_count": 60,
   "metadata": {},
   "outputs": [
    {
     "name": "stdout",
     "output_type": "stream",
     "text": [
      "CPU times: user 2.04 ms, sys: 917 µs, total: 2.96 ms\n",
      "Wall time: 2.14 ms\n"
     ]
    },
    {
     "data": {
      "text/plain": [
       "MultinomialNB(alpha=1.0, class_prior=None, fit_prior=True)"
      ]
     },
     "execution_count": 60,
     "metadata": {},
     "output_type": "execute_result"
    }
   ],
   "source": [
    "# train the model using X_train_dtm (timing it with an IPython \"magic command\")\n",
    "%time nb.fit(X_train_dtm, y_train)"
   ]
  },
  {
   "cell_type": "code",
   "execution_count": 61,
   "metadata": {},
   "outputs": [],
   "source": [
    "# make class predictions for X_test_dtm\n",
    "y_pred_class = nb.predict(X_test_dtm)"
   ]
  },
  {
   "cell_type": "code",
   "execution_count": 62,
   "metadata": {},
   "outputs": [
    {
     "data": {
      "text/plain": [
       "array([3, 0])"
      ]
     },
     "execution_count": 62,
     "metadata": {},
     "output_type": "execute_result"
    }
   ],
   "source": [
    "y_pred_class"
   ]
  },
  {
   "cell_type": "code",
   "execution_count": 63,
   "metadata": {},
   "outputs": [
    {
     "data": {
      "text/plain": [
       "1.0"
      ]
     },
     "execution_count": 63,
     "metadata": {},
     "output_type": "execute_result"
    }
   ],
   "source": [
    "# calculate accuracy of class predictions\n",
    "from sklearn import metrics\n",
    "metrics.accuracy_score(y_test, y_pred_class)"
   ]
  },
  {
   "cell_type": "code",
   "execution_count": 64,
   "metadata": {},
   "outputs": [
    {
     "data": {
      "text/plain": [
       "17    3\n",
       "3     0\n",
       "Name: label_num, dtype: int64"
      ]
     },
     "execution_count": 64,
     "metadata": {},
     "output_type": "execute_result"
    }
   ],
   "source": [
    "y_test"
   ]
  },
  {
   "cell_type": "code",
   "execution_count": 65,
   "metadata": {},
   "outputs": [
    {
     "data": {
      "text/plain": [
       "array([3, 0])"
      ]
     },
     "execution_count": 65,
     "metadata": {},
     "output_type": "execute_result"
    }
   ],
   "source": [
    "y_pred_class"
   ]
  },
  {
   "cell_type": "code",
   "execution_count": 66,
   "metadata": {},
   "outputs": [
    {
     "data": {
      "text/plain": [
       "array([[1, 0],\n",
       "       [0, 1]])"
      ]
     },
     "execution_count": 66,
     "metadata": {},
     "output_type": "execute_result"
    }
   ],
   "source": [
    "# print the confusion matrix\n",
    "metrics.confusion_matrix(y_test, y_pred_class)"
   ]
  },
  {
   "cell_type": "markdown",
   "metadata": {},
   "source": [
    "### Clasification test"
   ]
  },
  {
   "cell_type": "code",
   "execution_count": 67,
   "metadata": {},
   "outputs": [
    {
     "data": {
      "text/plain": [
       "array([2])"
      ]
     },
     "execution_count": 67,
     "metadata": {},
     "output_type": "execute_result"
    }
   ],
   "source": [
    "new_article = ['People build house']\n",
    "new_article_vect = vect.transform(new_article)\n",
    "nb.predict(new_article_vect)\n",
    "\n",
    "# {'animal':0, 'health':1, 'story':2, 'science':3}"
   ]
  },
  {
   "cell_type": "code",
   "execution_count": 68,
   "metadata": {},
   "outputs": [
    {
     "name": "stderr",
     "output_type": "stream",
     "text": [
      "/anaconda3/lib/python3.6/site-packages/sklearn/utils/validation.py:590: DataConversionWarning: Data with input dtype int64 was converted to float64 by StandardScaler.\n",
      "  warnings.warn(msg, DataConversionWarning)\n"
     ]
    }
   ],
   "source": [
    "from sklearn.preprocessing import StandardScaler  \n",
    "scaler = StandardScaler(with_mean = False)  \n",
    "scaler.fit(X_train_dtm)\n",
    "\n",
    "X_training_vector = scaler.transform(X_train_dtm)  \n",
    "X_test_vector = scaler.transform(X_test_dtm)"
   ]
  },
  {
   "cell_type": "markdown",
   "metadata": {},
   "source": [
    "### Classification using SVM"
   ]
  },
  {
   "cell_type": "code",
   "execution_count": 69,
   "metadata": {},
   "outputs": [
    {
     "name": "stdout",
     "output_type": "stream",
     "text": [
      "Training Classifier...\n",
      "CPU times: user 2.24 ms, sys: 765 µs, total: 3.01 ms\n",
      "Wall time: 5.17 ms\n",
      "Predicting...\n",
      "Prediction: [3 0]\n",
      "Accuracy: 1.0\n"
     ]
    }
   ],
   "source": [
    "from sklearn import svm\n",
    "from sklearn.metrics import accuracy_score\n",
    "clf = svm.SVC(kernel='linear')\n",
    "print(\"Training Classifier...\")\n",
    "%time clf.fit(X_training_vector, y_train)\n",
    "print(\"Predicting...\")\n",
    "prediction = clf.predict(X_test_vector)\n",
    "print(\"Prediction:\",prediction)\n",
    "accuracy = accuracy_score(y_test, prediction)\n",
    "# metrics.accuracy_score(y_test, y_pred_class)\n",
    "print('Accuracy:', accuracy)"
   ]
  },
  {
   "cell_type": "code",
   "execution_count": 70,
   "metadata": {},
   "outputs": [
    {
     "data": {
      "text/plain": [
       "1.0"
      ]
     },
     "execution_count": 70,
     "metadata": {},
     "output_type": "execute_result"
    }
   ],
   "source": [
    "metrics.accuracy_score(y_test, prediction)"
   ]
  },
  {
   "cell_type": "code",
   "execution_count": 71,
   "metadata": {},
   "outputs": [
    {
     "name": "stdout",
     "output_type": "stream",
     "text": [
      "[3 0]\n"
     ]
    }
   ],
   "source": [
    "# print(y_test)\n",
    "print(prediction)"
   ]
  },
  {
   "cell_type": "code",
   "execution_count": 72,
   "metadata": {},
   "outputs": [
    {
     "data": {
      "text/plain": [
       "array([0])"
      ]
     },
     "execution_count": 72,
     "metadata": {},
     "output_type": "execute_result"
    }
   ],
   "source": [
    "new_article = ['saw your saw i']\n",
    "new_article_vect = vect.transform(new_article)\n",
    "clf.predict(new_article_vect)\n",
    "\n",
    "# {'news':0, 'finance':1, 'hot':2, 'sport':3, 'travel':4}"
   ]
  },
  {
   "cell_type": "code",
   "execution_count": 73,
   "metadata": {},
   "outputs": [
    {
     "data": {
      "text/plain": [
       "['4½',\n",
       " 'about',\n",
       " 'also',\n",
       " 'an',\n",
       " 'and',\n",
       " 'animals',\n",
       " 'billion',\n",
       " 'bones',\n",
       " 'brightest',\n",
       " 'build',\n",
       " 'but',\n",
       " 'calcium',\n",
       " 'closest',\n",
       " 'come',\n",
       " 'dry',\n",
       " 'earth',\n",
       " 'for',\n",
       " 'give',\n",
       " 'gives',\n",
       " 'grow',\n",
       " 'have',\n",
       " 'helps',\n",
       " 'her',\n",
       " 'home',\n",
       " 'homes',\n",
       " 'how',\n",
       " 'human',\n",
       " 'in',\n",
       " 'is',\n",
       " 'it',\n",
       " 'keeps',\n",
       " 'learn',\n",
       " 'live',\n",
       " 'made',\n",
       " 'moon',\n",
       " 'more',\n",
       " 'neighbor',\n",
       " 'night',\n",
       " 'object',\n",
       " 'of',\n",
       " 'ofcourse',\n",
       " 'old',\n",
       " 'on',\n",
       " 'organs',\n",
       " 'people',\n",
       " 'place',\n",
       " 'protect',\n",
       " 'read',\n",
       " 'run',\n",
       " 'saw',\n",
       " 'scientists',\n",
       " 'see',\n",
       " 'she',\n",
       " 'skeleton',\n",
       " 'sky',\n",
       " 'standing',\n",
       " 'strong',\n",
       " 'studied',\n",
       " 'the',\n",
       " 'there',\n",
       " 'they',\n",
       " 'this',\n",
       " 'thousands',\n",
       " 'to',\n",
       " 'umbrella',\n",
       " 'us',\n",
       " 'warm',\n",
       " 'years',\n",
       " 'your']"
      ]
     },
     "execution_count": 73,
     "metadata": {},
     "output_type": "execute_result"
    }
   ],
   "source": [
    "vect.get_feature_names()"
   ]
  },
  {
   "cell_type": "code",
   "execution_count": null,
   "metadata": {},
   "outputs": [],
   "source": []
  }
 ],
 "metadata": {
  "kernelspec": {
   "display_name": "Python 3",
   "language": "python",
   "name": "python3"
  },
  "language_info": {
   "codemirror_mode": {
    "name": "ipython",
    "version": 3
   },
   "file_extension": ".py",
   "mimetype": "text/x-python",
   "name": "python",
   "nbconvert_exporter": "python",
   "pygments_lexer": "ipython3",
   "version": "3.6.6"
  }
 },
 "nbformat": 4,
 "nbformat_minor": 2
}
