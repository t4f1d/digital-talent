{
 "cells": [
  {
   "cell_type": "markdown",
   "metadata": {},
   "source": [
    "# Scraping Twitter\n",
    "Pada python notebook ini akan dijelaskan mengenai scraping data dari twitter\n",
    "menggunakan Twitter API dan Twython.\n",
    "\n",
    "## Inisialisasi Twython\n",
    "Twython merupakan modul python untuk mendapatkan tweet dari twitter. dimasukkan dulu Key yang dibutuhkan seperti:\n",
    "```\n",
    "TWITTER_APP_KEY\n",
    "TWITTER_APP_KEY_SECRET\n",
    "TWITTER_ACCESS_TOKEN\n",
    "TWITTER_ACCESS_TOKEN_SECRET\n",
    "```"
   ]
  },
  {
   "cell_type": "code",
   "execution_count": 1,
   "metadata": {},
   "outputs": [],
   "source": [
    "from twython import Twython\n",
    "import pandas as pd\n",
    "\n",
    "#Log in Twitter API\n",
    "TWITTER_APP_KEY = \"bgAsjeaOjDhijVVNj0CKvmXd1\"\n",
    "TWITTER_APP_KEY_SECRET = \"i4ogIK1Pw0sHtPMve71JgzONGGz5osFNoKELQ31QmXdJZK6CJF\"\n",
    "TWITTER_ACCESS_TOKEN = \"946009581813039106-1p9P45cWrcjhgugctlTA48VzkxkoKxT\"\n",
    "TWITTER_ACCESS_TOKEN_SECRET = \"CXF8ijxLrF4T9KHXsNR8XhJx77uKARW9KGS0PtrOeYa4j\"\n",
    "\n",
    "t = Twython(app_key=TWITTER_APP_KEY, \n",
    "            app_secret=TWITTER_APP_KEY_SECRET, \n",
    "            oauth_token=TWITTER_ACCESS_TOKEN, \n",
    "            oauth_token_secret=TWITTER_ACCESS_TOKEN_SECRET)\n"
   ]
  },
  {
   "cell_type": "markdown",
   "metadata": {},
   "source": [
    "## Menentukan Term\n",
    "Term digunakan untuk mencari kata apa yang akan diambil dari twitter. disini kita mencoba mencari kata `Traveloka` sebanyak 20 buah tweet terbaru, yang menggunakan bahasa Indonesia"
   ]
  },
  {
   "cell_type": "code",
   "execution_count": 2,
   "metadata": {},
   "outputs": [],
   "source": [
    "#Term\n",
    "term = 'Traveloka'\n",
    "tweet_metadatas = t.search(q=term,count=20,result_type='recent',lang='id')"
   ]
  },
  {
   "cell_type": "markdown",
   "metadata": {},
   "source": [
    "## Scrapping Data"
   ]
  },
  {
   "cell_type": "code",
   "execution_count": 3,
   "metadata": {},
   "outputs": [],
   "source": [
    "#Scrapping\n",
    "data_list = []\n",
    "for tweet in tweet_metadatas['statuses']:\n",
    "    meta = dict()\n",
    "    meta['tweet'] = tweet['text']\n",
    "    meta['timestamp'] = tweet['created_at']\n",
    "    meta['username'] = tweet['user']['screen_name']\n",
    "    \n",
    "    data_list.append(meta)\n",
    "    "
   ]
  },
  {
   "cell_type": "markdown",
   "metadata": {},
   "source": [
    "## Menampilkan Data hasil Scrapping\n",
    "Berikut adalah data hasil scrapping yang telah dilakukan"
   ]
  },
  {
   "cell_type": "code",
   "execution_count": 7,
   "metadata": {},
   "outputs": [
    {
     "data": {
      "text/html": [
       "<div>\n",
       "<style scoped>\n",
       "    .dataframe tbody tr th:only-of-type {\n",
       "        vertical-align: middle;\n",
       "    }\n",
       "\n",
       "    .dataframe tbody tr th {\n",
       "        vertical-align: top;\n",
       "    }\n",
       "\n",
       "    .dataframe thead th {\n",
       "        text-align: right;\n",
       "    }\n",
       "</style>\n",
       "<table border=\"1\" class=\"dataframe\">\n",
       "  <thead>\n",
       "    <tr style=\"text-align: right;\">\n",
       "      <th></th>\n",
       "      <th>timestamp</th>\n",
       "      <th>tweet</th>\n",
       "      <th>username</th>\n",
       "    </tr>\n",
       "  </thead>\n",
       "  <tbody>\n",
       "    <tr>\n",
       "      <th>0</th>\n",
       "      <td>Thu Oct 25 13:02:49 +0000 2018</td>\n",
       "      <td>RT @IsskndarAriffin: Untuk sampai ke sini, kak...</td>\n",
       "      <td>tengkuafiq55</td>\n",
       "    </tr>\n",
       "    <tr>\n",
       "      <th>1</th>\n",
       "      <td>Thu Oct 25 13:00:03 +0000 2018</td>\n",
       "      <td>Dafam Teraskita Kembali Raih The Best Guest Ex...</td>\n",
       "      <td>vakansi_co</td>\n",
       "    </tr>\n",
       "    <tr>\n",
       "      <th>2</th>\n",
       "      <td>Thu Oct 25 12:57:53 +0000 2018</td>\n",
       "      <td>@cahpang @Faris13_ @Rockabatik @thimvz Mainan ...</td>\n",
       "      <td>muutsek</td>\n",
       "    </tr>\n",
       "    <tr>\n",
       "      <th>3</th>\n",
       "      <td>Thu Oct 25 12:44:24 +0000 2018</td>\n",
       "      <td>RT @traveloka: Itinerary keliling #Bandung wee...</td>\n",
       "      <td>AdiputraAnggit</td>\n",
       "    </tr>\n",
       "    <tr>\n",
       "      <th>4</th>\n",
       "      <td>Thu Oct 25 12:34:24 +0000 2018</td>\n",
       "      <td>@flyscootID mw pesen tambahan tiket u/ Anak di...</td>\n",
       "      <td>MDesyderius</td>\n",
       "    </tr>\n",
       "  </tbody>\n",
       "</table>\n",
       "</div>"
      ],
      "text/plain": [
       "                        timestamp  \\\n",
       "0  Thu Oct 25 13:02:49 +0000 2018   \n",
       "1  Thu Oct 25 13:00:03 +0000 2018   \n",
       "2  Thu Oct 25 12:57:53 +0000 2018   \n",
       "3  Thu Oct 25 12:44:24 +0000 2018   \n",
       "4  Thu Oct 25 12:34:24 +0000 2018   \n",
       "\n",
       "                                               tweet        username  \n",
       "0  RT @IsskndarAriffin: Untuk sampai ke sini, kak...    tengkuafiq55  \n",
       "1  Dafam Teraskita Kembali Raih The Best Guest Ex...      vakansi_co  \n",
       "2  @cahpang @Faris13_ @Rockabatik @thimvz Mainan ...         muutsek  \n",
       "3  RT @traveloka: Itinerary keliling #Bandung wee...  AdiputraAnggit  \n",
       "4  @flyscootID mw pesen tambahan tiket u/ Anak di...     MDesyderius  "
      ]
     },
     "execution_count": 7,
     "metadata": {},
     "output_type": "execute_result"
    }
   ],
   "source": [
    "#Display\n",
    "data = pd.DataFrame(data_list)\n",
    "data.head()"
   ]
  },
  {
   "cell_type": "markdown",
   "metadata": {},
   "source": [
    "## Menyimpan Data Hasil Scrapping\n",
    "Data Disimpan dalam bentuk `.xlsx` , file yang akan disimpan berlokasi di `scrap-data/data_twitter.xlsx`"
   ]
  },
  {
   "cell_type": "code",
   "execution_count": 5,
   "metadata": {},
   "outputs": [],
   "source": [
    "#Export\n",
    "writer = pd.ExcelWriter('scrap-data/data_twitter.xlsx')\n",
    "data.to_excel(writer,'Sheet1',index=False)\n",
    "writer.save()"
   ]
  },
  {
   "cell_type": "code",
   "execution_count": null,
   "metadata": {},
   "outputs": [],
   "source": []
  }
 ],
 "metadata": {
  "kernelspec": {
   "display_name": "Python 3",
   "language": "python",
   "name": "python3"
  },
  "language_info": {
   "codemirror_mode": {
    "name": "ipython",
    "version": 3
   },
   "file_extension": ".py",
   "mimetype": "text/x-python",
   "name": "python",
   "nbconvert_exporter": "python",
   "pygments_lexer": "ipython3",
   "version": "3.6.6"
  }
 },
 "nbformat": 4,
 "nbformat_minor": 2
}
